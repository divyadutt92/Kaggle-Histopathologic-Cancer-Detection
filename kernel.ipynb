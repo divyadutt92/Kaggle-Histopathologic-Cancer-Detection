{
  "cells": [
    {
      "metadata": {
        "_uuid": "8f2839f25d086af736a60e9eeb907d3b93b6e0e5",
        "_cell_guid": "b1076dfc-b9ad-4769-8c92-a6c4dae69d19",
        "trusted": true
      },
      "cell_type": "code",
      "source": "from numpy.random import seed\nseed(101)\nfrom tensorflow import set_random_seed\nset_random_seed(101)\n\nimport pandas as pd\nimport numpy as np\n\n\n#import tensorflow as tf\n#from tensorflow import keras\nfrom keras.preprocessing.image import ImageDataGenerator\nfrom keras.layers import Conv2D, MaxPooling2D\nfrom keras.layers import Dense, Dropout, Flatten, Activation\nfrom keras.models import Sequential\nfrom keras.layers.normalization import BatchNormalization\nfrom keras.callbacks import EarlyStopping, ReduceLROnPlateau, ModelCheckpoint\nfrom keras.optimizers import Adam\nfrom keras import optimizers\n\nimport os\nimport cv2\n\nfrom sklearn.utils import shuffle\nfrom sklearn.metrics import confusion_matrix\nfrom sklearn.model_selection import train_test_split\nimport itertools\nimport shutil\nimport matplotlib.pyplot as plt\n%matplotlib inline\nIMAGE_SIZE = 96\nIMAGE_CHANNELS = 3\n\nSAMPLE_SIZE = 80000 # the number of images we use from each of the two classes",
      "execution_count": null,
      "outputs": []
    },
    {
      "metadata": {
        "_cell_guid": "79c7e3d0-c299-4dcb-8224-4455121ee9b0",
        "_uuid": "d629ff2d2480ee46fbb7e2d37f6b5fab8052498a",
        "trusted": true
      },
      "cell_type": "code",
      "source": "import os \nos.listdir('../input')",
      "execution_count": null,
      "outputs": []
    },
    {
      "metadata": {
        "trusted": true,
        "_uuid": "84e57c4ebbef22c6c7748b785277c9e9c46cce96"
      },
      "cell_type": "code",
      "source": "print(len(os.listdir('../input/train')))\nprint(len(os.listdir('../input/test')))",
      "execution_count": null,
      "outputs": []
    },
    {
      "metadata": {
        "trusted": true,
        "_uuid": "13a8c57255d09bde790e888699462f35010bcac3"
      },
      "cell_type": "code",
      "source": "import pandas as pd",
      "execution_count": null,
      "outputs": []
    },
    {
      "metadata": {
        "trusted": true,
        "scrolled": true,
        "_uuid": "e84da9ec4ce24b4cb6b3e9297229022019254a9f"
      },
      "cell_type": "code",
      "source": "import os\nimport cv2\n\nfrom sklearn.utils import shuffle\nfrom sklearn.metrics import confusion_matrix\nfrom sklearn.model_selection import train_test_split\nimport itertools\nimport shutil\nimport matplotlib.pyplot as plt\n%matplotlib inline\n\nIMAGE_SIZE = 96\nIMAGE_CHANNELS = 3\n\nSAMPLE_SIZE = 80000 # the number of images we use from each of the two classes\nINPUT_DIR = '../input/'",
      "execution_count": null,
      "outputs": []
    },
    {
      "metadata": {
        "trusted": true,
        "_uuid": "49a4a067d19810bc5365cf0b8dc70d676c0848ef"
      },
      "cell_type": "code",
      "source": "from glob import glob \nfrom skimage.io import imread \n# Data setup\ntraining_dir = INPUT_DIR + 'train/'\ndata_frame = pd.DataFrame({'path': glob(os.path.join(training_dir,'*.tif'))})\ndata_frame['id'] = data_frame.path.map(lambda x: x.split('/')[3].split('.')[0]) \nlabels = pd.read_csv(INPUT_DIR + 'train_labels.csv')\ndata_frame = data_frame.merge(labels, on = 'id')\nnegatives = data_frame[data_frame.label == 0].sample(SAMPLE_SIZE)\npositives = data_frame[data_frame.label == 1].sample(SAMPLE_SIZE)\ndata_frame = pd.concat([negatives, positives]).reset_index()\ndata_frame = data_frame[['path', 'id', 'label']]\ndata_frame['image'] = data_frame['path'].map(imread)\n\ntraining_path = '../training'\nvalidation_path = '../validation'\n\nfor folder in [training_path, validation_path]:\n    for subfolder in ['0', '1']:\n        path = os.path.join(folder, subfolder)\n        os.makedirs(path, exist_ok=True)\n\ntraining, validation = train_test_split(data_frame, train_size=0.75, stratify=data_frame['label'])\n\ndata_frame.set_index('id', inplace=True)\n\nfor images_and_path in [(training, training_path), (validation, validation_path)]:\n    images = images_and_path[0]\n    path = images_and_path[1]\n    for image in images['id'].values:\n        file_name = image + '.tif'\n        label = str(data_frame.loc[image,'label'])\n        destination = os.path.join(path, label, file_name)\n        if not os.path.exists(destination):\n            source = os.path.join(INPUT_DIR + 'train', file_name)\n            shutil.copyfile(source, destination)",
      "execution_count": null,
      "outputs": []
    },
    {
      "metadata": {
        "trusted": true,
        "_uuid": "6bb32809ebb22365c84c3bd7eebddd0bad1976f8"
      },
      "cell_type": "code",
      "source": "len((os.listdir('../validation/0')))",
      "execution_count": null,
      "outputs": []
    },
    {
      "metadata": {
        "trusted": true,
        "_uuid": "41514650c33dd53a1d8cfec18e9318b48581e087"
      },
      "cell_type": "code",
      "source": "train_path = '../training'\nvalid_path = '../validation'\n\nnum_train_samples =120000\nnum_val_samples = 40000\ntrain_batch_size = 10\nval_batch_size = 10\n\n\ntrain_steps = np.ceil(num_train_samples / train_batch_size)\nval_steps = np.ceil(num_val_samples / val_batch_size)",
      "execution_count": null,
      "outputs": []
    },
    {
      "metadata": {
        "trusted": true,
        "scrolled": true,
        "_uuid": "f8a452ac93a6d1c7e995d0fc61a67dea3ce2525c"
      },
      "cell_type": "code",
      "source": "datagen = ImageDataGenerator(rescale=1.0/255)\n\ntrain_gen = datagen.flow_from_directory(train_path,\n                                        target_size=(IMAGE_SIZE,IMAGE_SIZE),\n                                        batch_size=train_batch_size,\n                                        class_mode='binary')\n\nval_gen = datagen.flow_from_directory(valid_path,\n                                        target_size=(IMAGE_SIZE,IMAGE_SIZE),\n                                        batch_size=val_batch_size,\n                                        class_mode='binary')\n",
      "execution_count": null,
      "outputs": []
    },
    {
      "metadata": {
        "trusted": true,
        "_uuid": "8df0208c3a41e4e59d7edd48fa357904b6989160",
        "scrolled": true
      },
      "cell_type": "code",
      "source": "model = Sequential()\nmodel.add(Conv2D(128, (5, 5), activation = 'relu', input_shape=(96,96, 3), name='Conv_1'))\nmodel.add(MaxPooling2D((2,2)))\nmodel.add(Conv2D(64, (5, 5), activation = 'relu', name='Conv_2'))\nmodel.add(MaxPooling2D((2,2)))\nmodel.add(Conv2D(32, (3, 3), activation = 'relu', name='Conv_3'))\nmodel.add(MaxPooling2D((2,2)))\nmodel.add(Conv2D(16, (3, 3), activation = 'relu', name='Conv_4'))\nmodel.add(MaxPooling2D((2,2)))\nmodel.add(Flatten())\nmodel.add(Dropout(0.3))\nmodel.add(Dense(64, kernel_initializer='normal', activation='relu', name='Dense_1'))\nmodel.add(BatchNormalization(name='batch_2'))\nmodel.add(Dense(1, kernel_initializer='normal', activation='sigmoid', name='Dense_2'))\nsgd = optimizers.SGD(lr=0.009)\nmodel.compile(loss='binary_crossentropy', optimizer=sgd, metrics=['accuracy'])\nmodel.summary()",
      "execution_count": null,
      "outputs": []
    },
    {
      "metadata": {
        "trusted": true,
        "_uuid": "ded6e78b84737c22a78f7c0f2a8c6f3a99fb39be"
      },
      "cell_type": "code",
      "source": "model.fit_generator(train_gen,validation_data=val_gen,validation_steps=val_steps,epochs=10)",
      "execution_count": null,
      "outputs": []
    },
    {
      "metadata": {
        "trusted": true,
        "_uuid": "2a7fe1f2804de0a94367e6f1ae021c8243a509b7"
      },
      "cell_type": "code",
      "source": "scores=model.evaluate_generator(val_gen)\nprint(\"Baseline Error: %.2f%%\" % (100-scores[1]*100))\n",
      "execution_count": null,
      "outputs": []
    },
    {
      "metadata": {
        "trusted": true,
        "_uuid": "be0b3ca1c5eb896d0749cca6e22df8eef2dfbb00"
      },
      "cell_type": "code",
      "source": "model.save('model_final_1.h5')",
      "execution_count": null,
      "outputs": []
    },
    {
      "metadata": {
        "_kg_hide-output": true,
        "trusted": true,
        "_uuid": "af934c727cc4b8c69af68fb6942fd9c677f5f656"
      },
      "cell_type": "code",
      "source": "\ntesting_files = glob(os.path.join(INPUT_DIR+'test/','*.tif'))\nsubmission = pd.DataFrame()\nfor index in range(0, len(testing_files), 5000):\n    data_frame = pd.DataFrame({'path': testing_files[index:index+5000]})\n    data_frame['id'] = data_frame.path.map(lambda x: x.split('/')[3].split(\".\")[0])\n    data_frame['image'] = data_frame['path'].map(imread)\n    images = np.stack(data_frame.image, axis=0)\n    predicted_labels = [model.predict(np.expand_dims(image/255.0, axis=0))[0][0] for image in images]\n    predictions = np.array(predicted_labels)\n    data_frame['label'] = predictions\n    submission = pd.concat([submission, data_frame[[\"id\", \"label\"]]])\nsubmission.to_csv('submission.csv', index=False, header=True)",
      "execution_count": null,
      "outputs": []
    },
    {
      "metadata": {
        "_kg_hide-output": true,
        "trusted": true,
        "_uuid": "5c8ab7e0303293ceda10638452f375e8cf12d609"
      },
      "cell_type": "code",
      "source": "#results.shape",
      "execution_count": null,
      "outputs": []
    },
    {
      "metadata": {
        "trusted": true,
        "_uuid": "1ebaae49ee9e34a8bc190aa75ddffc5133191727"
      },
      "cell_type": "code",
      "source": "#results.head()",
      "execution_count": null,
      "outputs": []
    },
    {
      "metadata": {
        "trusted": true,
        "_uuid": "6d501d4b1d90fd972c410f1448736cf8427cd7aa"
      },
      "cell_type": "code",
      "source": "",
      "execution_count": null,
      "outputs": []
    }
  ],
  "metadata": {
    "kernelspec": {
      "display_name": "Python 3",
      "language": "python",
      "name": "python3"
    },
    "language_info": {
      "name": "python",
      "version": "3.6.6",
      "mimetype": "text/x-python",
      "codemirror_mode": {
        "name": "ipython",
        "version": 3
      },
      "pygments_lexer": "ipython3",
      "nbconvert_exporter": "python",
      "file_extension": ".py"
    }
  },
  "nbformat": 4,
  "nbformat_minor": 1
}